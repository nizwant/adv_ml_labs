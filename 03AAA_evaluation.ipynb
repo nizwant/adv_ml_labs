{
 "cells": [
  {
   "cell_type": "code",
   "execution_count": 4,
   "metadata": {},
   "outputs": [],
   "source": [
    "import pandas as pd\n",
    "import numpy as np\n",
    "import matplotlib.pyplot as plt"
   ]
  },
  {
   "cell_type": "markdown",
   "metadata": {},
   "source": [
    "### Datasets"
   ]
  },
  {
   "cell_type": "markdown",
   "metadata": {},
   "source": [
    "#### Real (SAheart)"
   ]
  },
  {
   "cell_type": "code",
   "execution_count": 5,
   "metadata": {},
   "outputs": [],
   "source": [
    "sa_data = pd.read_csv(\"data/SAheart.data\")\n",
    "sa_data = sa_data.drop(\"row.names\", axis=1)\n",
    "sa_data[\"famhist\"] = sa_data[\"famhist\"].map({\"Present\": 1, \"Absent\": 0})\n",
    "y_real = sa_data[\"chd\"]\n",
    "x_real = sa_data.drop(\"chd\", axis=1)"
   ]
  },
  {
   "cell_type": "markdown",
   "metadata": {},
   "source": [
    "#### Artificial"
   ]
  },
  {
   "cell_type": "code",
   "execution_count": 75,
   "metadata": {},
   "outputs": [],
   "source": [
    "def generate_data(n, b, k):\n",
    "    # number of features\n",
    "    k = k + 5\n",
    "    beta = np.zeros(k)\n",
    "    beta[:5] = b\n",
    "    x = np.random.normal(size=(n, k))\n",
    "    probability = 1 / (1 + np.exp(-np.dot(beta, x.T)))\n",
    "    y = np.random.binomial(1, probability)\n",
    "    return x, y"
   ]
  },
  {
   "cell_type": "code",
   "execution_count": 79,
   "metadata": {},
   "outputs": [
    {
     "data": {
      "text/plain": [
       "(array([[ 0.94128458, -0.65064257, -0.48712538, -0.59239392, -0.86399077,\n",
       "          0.04852163],\n",
       "        [-0.83095012,  0.27045683, -0.05023811, -0.23894805, -0.90756366,\n",
       "         -0.57677133],\n",
       "        [ 0.75539123,  0.50091719, -0.97755524,  0.09933231,  0.75138712,\n",
       "         -1.66940528],\n",
       "        [ 0.54336019, -0.66262376,  0.57059867, -0.76325916, -1.8048821 ,\n",
       "         -1.62754244],\n",
       "        [ 0.04808495,  0.2597225 , -0.90431663,  0.63859246, -1.66152006,\n",
       "         -0.0660798 ]]),\n",
       " array([0, 0, 1, 0, 0]))"
      ]
     },
     "execution_count": 79,
     "metadata": {},
     "output_type": "execute_result"
    }
   ],
   "source": [
    "generate_data(n=5, b=2, k=1)"
   ]
  },
  {
   "cell_type": "code",
   "execution_count": null,
   "metadata": {},
   "outputs": [],
   "source": []
  },
  {
   "cell_type": "code",
   "execution_count": null,
   "metadata": {},
   "outputs": [],
   "source": []
  },
  {
   "cell_type": "code",
   "execution_count": null,
   "metadata": {},
   "outputs": [],
   "source": []
  }
 ],
 "metadata": {
  "kernelspec": {
   "display_name": "asseco",
   "language": "python",
   "name": "python3"
  },
  "language_info": {
   "codemirror_mode": {
    "name": "ipython",
    "version": 3
   },
   "file_extension": ".py",
   "mimetype": "text/x-python",
   "name": "python",
   "nbconvert_exporter": "python",
   "pygments_lexer": "ipython3",
   "version": "3.10.4"
  }
 },
 "nbformat": 4,
 "nbformat_minor": 2
}
