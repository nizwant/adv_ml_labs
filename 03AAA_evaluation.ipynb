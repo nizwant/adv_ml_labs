{
 "cells": [
  {
   "cell_type": "code",
   "execution_count": 94,
   "metadata": {},
   "outputs": [],
   "source": [
    "import pandas as pd\n",
    "import numpy as np\n",
    "import matplotlib.pyplot as plt\n",
    "from sklearn.tree import DecisionTreeClassifier\n",
    "from sklearn.linear_model import LogisticRegression\n",
    "from sklearn.metrics import accuracy_score\n",
    "import warnings\n",
    "from sklearn.model_selection import train_test_split\n",
    "from sklearn.model_selection import cross_val_score\n",
    "\n",
    "warnings.filterwarnings(\"ignore\")"
   ]
  },
  {
   "cell_type": "markdown",
   "metadata": {},
   "source": [
    "### Datasets"
   ]
  },
  {
   "cell_type": "markdown",
   "metadata": {},
   "source": [
    "#### Real (SAheart)"
   ]
  },
  {
   "cell_type": "code",
   "execution_count": 5,
   "metadata": {},
   "outputs": [],
   "source": [
    "sa_data = pd.read_csv(\"data/SAheart.data\")\n",
    "sa_data = sa_data.drop(\"row.names\", axis=1)\n",
    "sa_data[\"famhist\"] = sa_data[\"famhist\"].map({\"Present\": 1, \"Absent\": 0})\n",
    "y_real = sa_data[\"chd\"]\n",
    "x_real = sa_data.drop(\"chd\", axis=1)"
   ]
  },
  {
   "cell_type": "markdown",
   "metadata": {},
   "source": [
    "#### Artificial"
   ]
  },
  {
   "cell_type": "code",
   "execution_count": 75,
   "metadata": {},
   "outputs": [],
   "source": [
    "def generate_data(n, b, k):\n",
    "    # number of features\n",
    "    k = k + 5\n",
    "    beta = np.zeros(k)\n",
    "    beta[:5] = b\n",
    "    x = np.random.normal(size=(n, k))\n",
    "    probability = 1 / (1 + np.exp(-np.dot(beta, x.T)))\n",
    "    y = np.random.binomial(1, probability)\n",
    "    return x, y"
   ]
  },
  {
   "cell_type": "code",
   "execution_count": 79,
   "metadata": {},
   "outputs": [
    {
     "data": {
      "text/plain": [
       "(array([[ 0.94128458, -0.65064257, -0.48712538, -0.59239392, -0.86399077,\n",
       "          0.04852163],\n",
       "        [-0.83095012,  0.27045683, -0.05023811, -0.23894805, -0.90756366,\n",
       "         -0.57677133],\n",
       "        [ 0.75539123,  0.50091719, -0.97755524,  0.09933231,  0.75138712,\n",
       "         -1.66940528],\n",
       "        [ 0.54336019, -0.66262376,  0.57059867, -0.76325916, -1.8048821 ,\n",
       "         -1.62754244],\n",
       "        [ 0.04808495,  0.2597225 , -0.90431663,  0.63859246, -1.66152006,\n",
       "         -0.0660798 ]]),\n",
       " array([0, 0, 1, 0, 0]))"
      ]
     },
     "execution_count": 79,
     "metadata": {},
     "output_type": "execute_result"
    }
   ],
   "source": [
    "generate_data(n=5, b=2, k=1)"
   ]
  },
  {
   "cell_type": "code",
   "execution_count": 81,
   "metadata": {},
   "outputs": [],
   "source": [
    "artificial_x, artificial_y = generate_data(n=1000, b=1, k=20)"
   ]
  },
  {
   "cell_type": "markdown",
   "metadata": {},
   "source": [
    "### Testing different estimations schemas "
   ]
  },
  {
   "cell_type": "markdown",
   "metadata": {},
   "source": [
    "#### Real"
   ]
  },
  {
   "cell_type": "markdown",
   "metadata": {},
   "source": [
    "##### Refitting"
   ]
  },
  {
   "cell_type": "code",
   "execution_count": 134,
   "metadata": {},
   "outputs": [
    {
     "name": "stdout",
     "output_type": "stream",
     "text": [
      "Logistic regression accuracy:  0.7294372294372294\n",
      "Decision tree accuracy:  0.7705627705627706\n"
     ]
    }
   ],
   "source": [
    "# logistic regression\n",
    "logistic = LogisticRegression()\n",
    "logistic.fit(x_real, y_real)\n",
    "print(\n",
    "    \"Logistic regression accuracy: \",\n",
    "    accuracy_score(y_real, logistic.predict(x_real)),\n",
    ")\n",
    "\n",
    "# decision tree\n",
    "tree = DecisionTreeClassifier(max_depth=3)\n",
    "tree.fit(x_real, y_real)\n",
    "print(\"Decision tree accuracy: \", accuracy_score(y_real, tree.predict(x_real)))"
   ]
  },
  {
   "cell_type": "markdown",
   "metadata": {},
   "source": [
    "##### Train test split"
   ]
  },
  {
   "cell_type": "code",
   "execution_count": 135,
   "metadata": {},
   "outputs": [
    {
     "name": "stdout",
     "output_type": "stream",
     "text": [
      "Logistic regression accuracy:  0.7419354838709677\n",
      "Decision tree accuracy:  0.7204301075268817\n"
     ]
    }
   ],
   "source": [
    "# splot data\n",
    "x_train, x_test, y_train, y_test = train_test_split(x_real, y_real, test_size=0.2)\n",
    "\n",
    "\n",
    "# logistic regression\n",
    "logistic = LogisticRegression()\n",
    "logistic.fit(x_train, y_train)\n",
    "print(\n",
    "    \"Logistic regression accuracy: \",\n",
    "    accuracy_score(y_test, logistic.predict(x_test)),\n",
    ")\n",
    "\n",
    "# decision tree\n",
    "tree = DecisionTreeClassifier(max_depth=3)\n",
    "tree.fit(x_train, y_train)\n",
    "print(\"Decision tree accuracy: \", accuracy_score(y_test, tree.predict(x_test)))"
   ]
  },
  {
   "cell_type": "markdown",
   "metadata": {},
   "source": [
    "##### 10-fold CV"
   ]
  },
  {
   "cell_type": "code",
   "execution_count": 136,
   "metadata": {},
   "outputs": [
    {
     "name": "stdout",
     "output_type": "stream",
     "text": [
      "Logistic regression cross validation:  0.7100370027752081\n",
      "Decision tree cross validation:  0.6925994449583719\n"
     ]
    }
   ],
   "source": [
    "# cross validation\n",
    "logistic = LogisticRegression()\n",
    "tree = DecisionTreeClassifier(max_depth=3)\n",
    "print(\n",
    "    \"Logistic regression cross validation: \",\n",
    "    cross_val_score(logistic, x_real, y_real, cv=10).mean(),\n",
    ")\n",
    "print(\n",
    "    \"Decision tree cross validation: \",\n",
    "    cross_val_score(tree, x_real, y_real, cv=10).mean(),\n",
    ")"
   ]
  },
  {
   "cell_type": "markdown",
   "metadata": {},
   "source": [
    "##### Bootstrap method"
   ]
  },
  {
   "cell_type": "code",
   "execution_count": 137,
   "metadata": {},
   "outputs": [],
   "source": [
    "def train_test_split_bootstrap_OOB(X, y):\n",
    "    sample = X.sample(frac=1, replace=True)\n",
    "    mask = X.index.difference(sample.index)\n",
    "    return X.loc[sample.index], y.loc[sample.index], X.loc[mask], y.loc[mask]"
   ]
  },
  {
   "cell_type": "code",
   "execution_count": 138,
   "metadata": {},
   "outputs": [
    {
     "data": {
      "text/plain": [
       "(          0         1         2         3         4         5\n",
       " 2 -0.331385 -0.921409 -1.345431 -1.635730  0.448238 -0.045992\n",
       " 3 -0.259416  1.430976 -0.651102 -0.498177  1.390714 -0.340949\n",
       " 3 -0.259416  1.430976 -0.651102 -0.498177  1.390714 -0.340949\n",
       " 1  0.190660  0.526651 -0.170145 -0.765295  0.569046  0.142201\n",
       " 3 -0.259416  1.430976 -0.651102 -0.498177  1.390714 -0.340949,\n",
       " 2    0\n",
       " 3    0\n",
       " 3    0\n",
       " 1    0\n",
       " 3    0\n",
       " dtype: int64,\n",
       "           0         1         2         3         4         5\n",
       " 0  1.047685 -0.218946 -1.307005 -0.246818 -0.509992  1.464295\n",
       " 4  0.750567  0.083917 -0.246543  1.099561 -0.046713  1.741873,\n",
       " 0    0\n",
       " 4    1\n",
       " dtype: int64)"
      ]
     },
     "execution_count": 138,
     "metadata": {},
     "output_type": "execute_result"
    }
   ],
   "source": [
    "x, y = generate_data(n=5, b=2, k=1)\n",
    "x, y = pd.DataFrame(x), pd.Series(y)\n",
    "train_test_split_bootstrap_OOB(x, y)"
   ]
  },
  {
   "cell_type": "code",
   "execution_count": 139,
   "metadata": {},
   "outputs": [],
   "source": [
    "def bootstrap_OOB_accuracy(X, y, model):\n",
    "    accuracies = []\n",
    "    for _ in range(200):\n",
    "        x_train, y_train, x_test, y_test = train_test_split_bootstrap_OOB(X, y)\n",
    "        model.fit(x_train, y_train)\n",
    "        accuracies.append(accuracy_score(y_test, model.predict(x_test)))\n",
    "    return np.mean(accuracies)"
   ]
  },
  {
   "cell_type": "code",
   "execution_count": 140,
   "metadata": {},
   "outputs": [
    {
     "name": "stdout",
     "output_type": "stream",
     "text": [
      "Logistic regression bootstrap OOB:  0.7066927724830748\n",
      "Decision tree bootstrap OOB:  0.675604665859535\n"
     ]
    }
   ],
   "source": [
    "# bootstrap OOB\n",
    "logistic = LogisticRegression()\n",
    "tree = DecisionTreeClassifier(max_depth=3)\n",
    "\n",
    "print(\n",
    "    \"Logistic regression bootstrap OOB: \",\n",
    "    bootstrap_OOB_accuracy(x_real, y_real, logistic),\n",
    ")\n",
    "print(\n",
    "    \"Decision tree bootstrap OOB: \",\n",
    "    bootstrap_OOB_accuracy(x_real, y_real, tree),\n",
    ")"
   ]
  },
  {
   "cell_type": "markdown",
   "metadata": {},
   "source": [
    "##### Bootstrap 0.632"
   ]
  },
  {
   "cell_type": "code",
   "execution_count": 141,
   "metadata": {},
   "outputs": [],
   "source": [
    "def bootstrap_632_accuracy(X, y, model):\n",
    "    accuracies = []\n",
    "    for _ in range(200):\n",
    "        x_train, y_train, x_test, y_test = train_test_split_bootstrap_OOB(X, y)\n",
    "        model.fit(x_train, y_train)\n",
    "        accuracies.append(\n",
    "            0.632 * accuracy_score(y_test, model.predict(x_test))\n",
    "            + 0.368 * accuracy_score(y_train, model.predict(x_train))\n",
    "        )\n",
    "    return np.mean(accuracies)"
   ]
  },
  {
   "cell_type": "code",
   "execution_count": 124,
   "metadata": {},
   "outputs": [
    {
     "name": "stdout",
     "output_type": "stream",
     "text": [
      "Logistic regression bootstrap .632:  0.7198314769755971\n",
      "Decision tree bootstrap .632:  0.7111065163826615\n"
     ]
    }
   ],
   "source": [
    "# bootstrap .632\n",
    "logistic = LogisticRegression()\n",
    "tree = DecisionTreeClassifier(max_depth=3)\n",
    "\n",
    "print(\n",
    "    \"Logistic regression bootstrap .632: \",\n",
    "    bootstrap_632_accuracy(x_real, y_real, logistic),\n",
    ")\n",
    "print(\n",
    "    \"Decision tree bootstrap .632: \",\n",
    "    bootstrap_632_accuracy(x_real, y_real, tree),\n",
    ")"
   ]
  },
  {
   "cell_type": "markdown",
   "metadata": {},
   "source": [
    "#### Artificial"
   ]
  },
  {
   "cell_type": "markdown",
   "metadata": {},
   "source": [
    "##### Refitting"
   ]
  },
  {
   "cell_type": "code",
   "execution_count": 130,
   "metadata": {},
   "outputs": [
    {
     "name": "stdout",
     "output_type": "stream",
     "text": [
      "Logistic regression accuracy:  0.785\n",
      "Decision tree accuracy:  0.706\n"
     ]
    }
   ],
   "source": [
    "# logistic regression\n",
    "logistic = LogisticRegression()\n",
    "logistic.fit(artificial_x, artificial_y)\n",
    "print(\n",
    "    \"Logistic regression accuracy: \",\n",
    "    accuracy_score(artificial_y, logistic.predict(artificial_x)),\n",
    ")\n",
    "\n",
    "# decision tree\n",
    "tree = DecisionTreeClassifier(max_depth=3)\n",
    "tree.fit(artificial_x, artificial_y)\n",
    "print(\n",
    "    \"Decision tree accuracy: \", accuracy_score(artificial_y, tree.predict(artificial_x))\n",
    ")"
   ]
  },
  {
   "cell_type": "markdown",
   "metadata": {},
   "source": [
    "##### Train test split"
   ]
  },
  {
   "cell_type": "code",
   "execution_count": 133,
   "metadata": {},
   "outputs": [
    {
     "name": "stdout",
     "output_type": "stream",
     "text": [
      "Logistic regression accuracy:  0.73\n",
      "Decision tree accuracy:  0.63\n"
     ]
    }
   ],
   "source": [
    "# splot data\n",
    "x_train, x_test, y_train, y_test = train_test_split(\n",
    "    artificial_x, artificial_y, test_size=0.2\n",
    ")\n",
    "\n",
    "\n",
    "# logistic regression\n",
    "logistic = LogisticRegression()\n",
    "logistic.fit(x_train, y_train)\n",
    "print(\n",
    "    \"Logistic regression accuracy: \",\n",
    "    accuracy_score(y_test, logistic.predict(x_test)),\n",
    ")\n",
    "\n",
    "# decision tree\n",
    "tree = DecisionTreeClassifier(max_depth=3)\n",
    "tree.fit(x_train, y_train)\n",
    "print(\"Decision tree accuracy: \", accuracy_score(y_test, tree.predict(x_test)))"
   ]
  },
  {
   "cell_type": "markdown",
   "metadata": {},
   "source": [
    "##### 10-fold CV"
   ]
  },
  {
   "cell_type": "code",
   "execution_count": 148,
   "metadata": {},
   "outputs": [
    {
     "name": "stdout",
     "output_type": "stream",
     "text": [
      "Logistic regression cross validation:  0.7750000000000001\n",
      "Decision tree cross validation:  0.64\n"
     ]
    }
   ],
   "source": [
    "# cross validation\n",
    "logistic = LogisticRegression()\n",
    "tree = DecisionTreeClassifier(max_depth=3)\n",
    "print(\n",
    "    \"Logistic regression cross validation: \",\n",
    "    cross_val_score(logistic, artificial_x, artificial_y, cv=10).mean(),\n",
    ")\n",
    "print(\n",
    "    \"Decision tree cross validation: \",\n",
    "    cross_val_score(tree, artificial_x, artificial_y, cv=10).mean(),\n",
    ")"
   ]
  },
  {
   "cell_type": "markdown",
   "metadata": {},
   "source": [
    "##### Bootstrap method"
   ]
  },
  {
   "cell_type": "code",
   "execution_count": 149,
   "metadata": {},
   "outputs": [
    {
     "name": "stdout",
     "output_type": "stream",
     "text": [
      "Logistic regression bootstrap OOB:  0.7603352476625588\n",
      "Decision tree bootstrap OOB:  0.6330801334890027\n"
     ]
    }
   ],
   "source": [
    "# bootstrap OOB\n",
    "artificial_x, artificial_y = pd.DataFrame(artificial_x), pd.Series(artificial_y)\n",
    "logistic = LogisticRegression()\n",
    "tree = DecisionTreeClassifier(max_depth=3)\n",
    "\n",
    "print(\n",
    "    \"Logistic regression bootstrap OOB: \",\n",
    "    bootstrap_OOB_accuracy(artificial_x, artificial_y, logistic),\n",
    ")\n",
    "print(\n",
    "    \"Decision tree bootstrap OOB: \",\n",
    "    bootstrap_OOB_accuracy(artificial_x, artificial_y, tree),\n",
    ")"
   ]
  },
  {
   "cell_type": "markdown",
   "metadata": {},
   "source": [
    "##### Bootstrap 0.632"
   ]
  },
  {
   "cell_type": "code",
   "execution_count": 150,
   "metadata": {},
   "outputs": [
    {
     "name": "stdout",
     "output_type": "stream",
     "text": [
      "Logistic regression bootstrap .632:  0.7181970996959655\n",
      "Decision tree bootstrap .632:  0.7091076782867579\n"
     ]
    }
   ],
   "source": [
    "# bootstrap .632\n",
    "logistic = LogisticRegression()\n",
    "tree = DecisionTreeClassifier(max_depth=3)\n",
    "\n",
    "print(\n",
    "    \"Logistic regression bootstrap .632: \",\n",
    "    bootstrap_632_accuracy(x_real, y_real, logistic),\n",
    ")\n",
    "print(\n",
    "    \"Decision tree bootstrap .632: \",\n",
    "    bootstrap_632_accuracy(x_real, y_real, tree),\n",
    ")"
   ]
  },
  {
   "cell_type": "markdown",
   "metadata": {},
   "source": [
    "### ROC curves"
   ]
  },
  {
   "cell_type": "code",
   "execution_count": null,
   "metadata": {},
   "outputs": [],
   "source": [
    "n = [100, 200, 1000]"
   ]
  }
 ],
 "metadata": {
  "kernelspec": {
   "display_name": "asseco",
   "language": "python",
   "name": "python3"
  },
  "language_info": {
   "codemirror_mode": {
    "name": "ipython",
    "version": 3
   },
   "file_extension": ".py",
   "mimetype": "text/x-python",
   "name": "python",
   "nbconvert_exporter": "python",
   "pygments_lexer": "ipython3",
   "version": "3.10.4"
  }
 },
 "nbformat": 4,
 "nbformat_minor": 2
}
