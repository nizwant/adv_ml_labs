{
 "cells": [
  {
   "cell_type": "code",
   "execution_count": 2,
   "metadata": {},
   "outputs": [],
   "source": [
    "import pandas as pd\n",
    "import numpy as np\n",
    "import matplotlib.pyplot as plt\n",
    "from scipy.stats import chi2\n",
    "from sklearn.tree import DecisionTreeClassifier"
   ]
  },
  {
   "cell_type": "code",
   "execution_count": 23,
   "metadata": {},
   "outputs": [],
   "source": [
    "class AdaBoost:\n",
    "    def __init__(self) -> None:\n",
    "        self.list_of_weak_learners = []\n",
    "        self.learners_weights = []\n",
    "\n",
    "    def fit(self, X, y, number_of_weak_learners):\n",
    "        n = len(X)\n",
    "        w = np.ones(n) / n\n",
    "        for t in range(number_of_weak_learners):\n",
    "            weak_learner = DecisionTreeClassifier(max_depth=1)\n",
    "            weak_learner.fit(X, y, sample_weight=w)\n",
    "            y_pred = weak_learner.predict(X) \n",
    "            epsilon = np.sum(w * (y_pred != y))\n",
    "            beta = epsilon / (1 - epsilon)\n",
    "            if epsilon > 0.5:\n",
    "                break\n",
    "\n",
    "            self.list_of_weak_learners.append(weak_learner)\n",
    "            self.alphas.append(beta)\n",
    "\n",
    "            w /= np.sum(w)\n",
    "\n",
    "    def predict(self, X):\n",
    "        predictions = np.zeros(len(X))\n",
    "        for weight, weak_learner in zip(self.learners_weights, self.list_of_weak_learners):\n",
    "            predictions += np.log(1/weight) * weak_learner.predict(X)\n",
    "        return np.sign(predictions)\n"
   ]
  },
  {
   "cell_type": "code",
   "execution_count": 21,
   "metadata": {},
   "outputs": [],
   "source": [
    "def generate_hard_data(number_of_sample, number_of_features):\n",
    "    X = np.random.randn(number_of_sample, number_of_features)\n",
    "    median_of_chi2 = chi2.median(number_of_features)\n",
    "    sum_of_squares = np.sum(X**2, axis=1, keepdims=True)\n",
    "    y = np.where(sum_of_squares > median_of_chi2, 1, -1)\n",
    "    return X, y"
   ]
  },
  {
   "cell_type": "code",
   "execution_count": null,
   "metadata": {},
   "outputs": [],
   "source": []
  },
  {
   "cell_type": "code",
   "execution_count": null,
   "metadata": {},
   "outputs": [],
   "source": []
  }
 ],
 "metadata": {
  "kernelspec": {
   "display_name": "asseco",
   "language": "python",
   "name": "python3"
  },
  "language_info": {
   "codemirror_mode": {
    "name": "ipython",
    "version": 3
   },
   "file_extension": ".py",
   "mimetype": "text/x-python",
   "name": "python",
   "nbconvert_exporter": "python",
   "pygments_lexer": "ipython3",
   "version": "3.10.4"
  }
 },
 "nbformat": 4,
 "nbformat_minor": 2
}
