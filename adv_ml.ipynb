{
 "cells": [
  {
   "cell_type": "code",
   "execution_count": 2,
   "metadata": {},
   "outputs": [],
   "source": [
    "import pandas as pd\n",
    "import numpy as np\n",
    "from math import pi"
   ]
  },
  {
   "cell_type": "markdown",
   "metadata": {},
   "source": [
    "# LDA"
   ]
  },
  {
   "cell_type": "code",
   "execution_count": 39,
   "metadata": {},
   "outputs": [],
   "source": [
    "class LDA:\n",
    "    def __init__(self) -> None:\n",
    "        self.sigma = None\n",
    "        self.mu_0 = None\n",
    "        self.mu_1 = None\n",
    "        self.fraction_0 = None\n",
    "        self.fraction_1 = None\n",
    "\n",
    "    def fit(self, X, y):\n",
    "        y = pd.DataFrame(y, columns=['y'])\n",
    "        data = pd.concat([X, y], axis=1)\n",
    "        data_0 = data[data['y'] == 0]\n",
    "        data_1 = data[data['y'] == 1]\n",
    "        data_0 = data_0.drop(columns='y')\n",
    "        data_1 = data_1.drop(columns='y')\n",
    "        data = data.drop(columns='y')\n",
    "\n",
    "        self.sigma = data.cov()\n",
    "        self.mu_0 = data_0.mean()\n",
    "        self.mu_1 = data_1.mean()\n",
    "        self.fraction_0 = len(data_0) / len(data)\n",
    "        self.fraction_1 = len(data_1) / len(data)\n",
    "\n",
    "    def gaussian(self, x, mu, sigma):\n",
    "        n = len(x)\n",
    "        det = np.linalg.det(sigma)\n",
    "        inv = np.linalg.inv(sigma)\n",
    "        x_mu = (x - mu)\n",
    "        result = 1 / (np.power(2 * pi, n / 2) * np.power(det, 0.5)) * np.exp(-0.5 * (x_mu.T @ inv @ x_mu))\n",
    "        return result\n",
    "\n",
    "    def predict_proba(self, X_test):\n",
    "        numerator = self.fraction_1 * self.gaussian(X_test, self.mu_1, self.sigma)\n",
    "        denominator = self.fraction_1 * self.gaussian(X_test, self.mu_1, self.sigma) + self.fraction_0 * self.gaussian(X_test, self.mu_0, self.sigma)\n",
    "        return numerator / denominator \n",
    "\n",
    "\n",
    "    def predict(self, X_test):\n",
    "        X_test_copy = X_test.copy()\n",
    "        X_test_copy.loc[self.predict_proba(X_test) > 0.5, 'y_pred'] = 1\n",
    "        X_test_copy.loc[self.predict_proba(X_test) <= 0.5, 'y_pred'] = 0\n",
    "\n",
    "        return X_test_copy['y_pred']\n",
    "    \n",
    "\n",
    "    def return_params(self):\n",
    "        return {\"covariance matrix\": self.sigma,\n",
    "                 \"mean for class 0\": self.mu_0, \"mean for class 1\": self.mu_1}\n",
    "    "
   ]
  },
  {
   "cell_type": "markdown",
   "metadata": {},
   "source": [
    "# QDA"
   ]
  },
  {
   "cell_type": "code",
   "execution_count": 38,
   "metadata": {},
   "outputs": [],
   "source": [
    "class QDA:\n",
    "    def __init__(self) -> None:\n",
    "        self.sigma_0 = None\n",
    "        self.sigma_1 = None\n",
    "        self.mu_0 = None\n",
    "        self.mu_1 = None\n",
    "        self.fraction_0 = None\n",
    "        self.fraction_1 = None\n",
    "\n",
    "    def fit(self, X, y):\n",
    "        y = pd.DataFrame(y, columns=['y'])\n",
    "        data = pd.concat([X, y], axis=1)\n",
    "        data_0 = data[data['y'] == 0]\n",
    "        data_1 = data[data['y'] == 1]\n",
    "        data_0 = data_0.drop(columns='y')\n",
    "        data_1 = data_1.drop(columns='y')\n",
    "\n",
    "        self.sigma_0 = data_0.cov()\n",
    "        self.sigma_1 = data_1.cov()\n",
    "        self.mu_0 = data_0.mean()\n",
    "        self.mu_1 = data_1.mean()\n",
    "        self.fraction_0 = len(data_0) / len(data)\n",
    "        self.fraction_1 = len(data_1) / len(data)\n",
    "\n",
    "    def gaussian(self, x, mu, sigma):\n",
    "        n = len(x)\n",
    "        det = np.linalg.det(sigma)\n",
    "        inv = np.linalg.inv(sigma)\n",
    "        x_mu = (x - mu)\n",
    "        result = 1 / (np.power(2 * pi, n / 2) * np.power(det, 0.5)) * np.exp(-0.5 * (x_mu.T @ inv @ x_mu))\n",
    "        return result\n",
    "\n",
    "    def predict_proba(self, X_test):\n",
    "        numerator = self.fraction_1 * self.gaussian(X_test, self.mu_1, self.sigma_1)\n",
    "        denominator = self.fraction_1 * self.gaussian(X_test, self.mu_1, self.sigma_1) + self.fraction_0 * self.gaussian(X_test, self.mu_0, self.sigma_0)\n",
    "        return numerator / denominator \n",
    "\n",
    "\n",
    "    def predict(self, X_test):\n",
    "        X_test_copy = X_test.copy()\n",
    "        X_test_copy.loc[self.predict_proba(X_test) > 0.5, 'y_pred'] = 1\n",
    "        X_test_copy.loc[self.predict_proba(X_test) <= 0.5, 'y_pred'] = 0\n",
    "\n",
    "        return X_test_copy['y_pred']\n",
    "    \n",
    "\n",
    "    def return_params(self):\n",
    "        return {\"covariance matrix for class 0\": self.sigma_0, \"covariance matrix for class 1\" :self.sigma_1,\n",
    "                 \"mean for class 0\": self.mu_0, \"mean for class 1\": self.mu_1}"
   ]
  },
  {
   "cell_type": "markdown",
   "metadata": {},
   "source": [
    "# Naive Bayes"
   ]
  },
  {
   "cell_type": "code",
   "execution_count": 34,
   "metadata": {},
   "outputs": [],
   "source": [
    "class NB:\n",
    "    def __init__(self) -> None:\n",
    "        self.sigma_0 = None\n",
    "        self.sigma_1 = None\n",
    "        self.mu_0 = None\n",
    "        self.mu_1 = None\n",
    "        self.fraction_0 = None\n",
    "        self.fraction_1 = None\n",
    "\n",
    "    def fit(self, X, y):\n",
    "        y = pd.DataFrame(y, columns=['y'])\n",
    "        data = pd.concat([X, y], axis=1)\n",
    "        data_0 = data[data['y'] == 0]\n",
    "        data_1 = data[data['y'] == 1]\n",
    "        data_0 = data_0.drop(columns='y')\n",
    "        data_1 = data_1.drop(columns='y')\n",
    "\n",
    "        self.sigma_0 = np.diag(np.diag(data_0.cov()))\n",
    "        self.sigma_1 = np.diag(np.diag(data_1.cov()))\n",
    "        self.mu_0 = data_0.mean()\n",
    "        self.mu_1 = data_1.mean()\n",
    "        self.fraction_0 = len(data_0) / len(data)\n",
    "        self.fraction_1 = len(data_1) / len(data)\n",
    "        \n",
    "\n",
    "    def gaussian(self, x, mu, sigma):\n",
    "        n = len(x)\n",
    "        det = np.linalg.det(sigma)\n",
    "        inv = np.linalg.inv(sigma)\n",
    "        x_mu = (x - mu)\n",
    "        result = 1 / (np.power(2 * pi, n / 2) * np.power(det, 0.5)) * np.exp(-0.5 * (x_mu.T @ inv @ x_mu))\n",
    "        return result\n",
    "\n",
    "    def predict_proba(self, X_test):\n",
    "        numerator = self.fraction_1 * self.gaussian(X_test, self.mu_1, self.sigma_1)\n",
    "        denominator = self.fraction_1 * self.gaussian(X_test, self.mu_1, self.sigma_1) + self.fraction_0 * self.gaussian(X_test, self.mu_0, self.sigma_0)\n",
    "        return numerator / denominator \n",
    "\n",
    "\n",
    "    def predict(self, X_test):\n",
    "        X_test_copy = X_test.copy()\n",
    "        X_test_copy.loc[self.predict_proba(X_test) > 0.5, 'y_pred'] = 1\n",
    "        X_test_copy.loc[self.predict_proba(X_test) <= 0.5, 'y_pred'] = 0\n",
    "\n",
    "        return X_test_copy['y_pred']\n",
    "\n",
    "\n",
    "    def return_params(self):\n",
    "        return {\"covariance matrix for class 0\": self.sigma_0, \"covariance matrix for class 1\" :self.sigma_1,\n",
    "                 \"mean for class 0\": self.mu_0, \"mean for class 1\": self.mu_1}"
   ]
  },
  {
   "cell_type": "markdown",
   "metadata": {},
   "source": [
    "# Testing"
   ]
  },
  {
   "cell_type": "code",
   "execution_count": 47,
   "metadata": {},
   "outputs": [
    {
     "name": "stdout",
     "output_type": "stream",
     "text": [
      "covariance matrix\n",
      "          x1        x2\n",
      "x1  9.166667 -9.166667\n",
      "x2 -9.166667  9.166667\n",
      "\n",
      "mean for class 0\n",
      "x1    3.0\n",
      "x2    8.0\n",
      "dtype: float64\n",
      "\n",
      "mean for class 1\n",
      "x1    8.0\n",
      "x2    3.0\n",
      "dtype: float64\n",
      "\n"
     ]
    },
    {
     "data": {
      "text/plain": [
       "array([[9.16666667, 0.        ],\n",
       "       [0.        , 9.16666667]])"
      ]
     },
     "execution_count": 47,
     "metadata": {},
     "output_type": "execute_result"
    }
   ],
   "source": [
    "lda = LDA()\n",
    "X = pd.DataFrame({'x1': [1, 2, 3, 4, 5, 6, 7, 8, 9, 10], 'x2': [10, 9, 8, 7, 6, 5, 4, 3, 2, 1]})\n",
    "y = pd.Series([0, 0, 0, 0, 0, 1, 1, 1, 1, 1])\n",
    "lda.fit(X, y)\n",
    "param = lda.return_params()\n",
    "for key, value in param.items():\n",
    "    print(f\"{key}\\n{value}\\n\")\n",
    "\n",
    "covar = param['covariance matrix']\n",
    "np.diag(np.diag(covar))"
   ]
  },
  {
   "cell_type": "code",
   "execution_count": null,
   "metadata": {},
   "outputs": [],
   "source": []
  },
  {
   "cell_type": "code",
   "execution_count": null,
   "metadata": {},
   "outputs": [],
   "source": []
  },
  {
   "cell_type": "code",
   "execution_count": null,
   "metadata": {},
   "outputs": [],
   "source": []
  },
  {
   "cell_type": "code",
   "execution_count": null,
   "metadata": {},
   "outputs": [],
   "source": []
  }
 ],
 "metadata": {
  "kernelspec": {
   "display_name": "asseco",
   "language": "python",
   "name": "python3"
  },
  "language_info": {
   "codemirror_mode": {
    "name": "ipython",
    "version": 3
   },
   "file_extension": ".py",
   "mimetype": "text/x-python",
   "name": "python",
   "nbconvert_exporter": "python",
   "pygments_lexer": "ipython3",
   "version": "3.10.4"
  }
 },
 "nbformat": 4,
 "nbformat_minor": 2
}
