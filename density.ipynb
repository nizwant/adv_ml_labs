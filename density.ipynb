{
 "cells": [
  {
   "cell_type": "code",
   "execution_count": 46,
   "metadata": {},
   "outputs": [],
   "source": [
    "import random\n",
    "import numpy as np\n",
    "import matplotlib.pyplot as plt\n",
    "\n",
    "\n",
    "def generate_data(n=100):\n",
    "    result = random.choices([0, 1], weights=[0.1, 0.9], k=n)\n",
    "    result = np.array(result, dtype=float)\n",
    "    result[result == 0] = np.random.normal(10, 1, len(result[result == 0]))\n",
    "    result[result == 1] = np.random.normal(5, 1, len(result[result == 1]))\n",
    "    return result"
   ]
  },
  {
   "cell_type": "code",
   "execution_count": null,
   "metadata": {},
   "outputs": [],
   "source": [
    "class kde:\n",
    "\n",
    "    def __init__(self, kernel_type=\"gaussian\", bandwidth=1):\n",
    "        self.kernel_type = kernel_type\n",
    "        self.bandwidth = bandwidth\n",
    "\n",
    "    def fit(self, data):\n",
    "        self.data = data\n",
    "        self.min = np.min(data)\n",
    "        self.max = np.max(data)\n",
    "        self.n = len(data)\n",
    "\n",
    "    def gaussian_kernel(self, x):\n",
    "        return 1 / np.sqrt(2 * np.pi) * np.exp(-0.5 * x**2)\n",
    "\n",
    "    def transform(self, x):\n",
    "        pass"
   ]
  },
  {
   "cell_type": "code",
   "execution_count": null,
   "metadata": {},
   "outputs": [],
   "source": [
    "data = generate_data(1000)"
   ]
  },
  {
   "cell_type": "code",
   "execution_count": null,
   "metadata": {},
   "outputs": [],
   "source": []
  }
 ],
 "metadata": {
  "kernelspec": {
   "display_name": "asseco",
   "language": "python",
   "name": "python3"
  },
  "language_info": {
   "codemirror_mode": {
    "name": "ipython",
    "version": 3
   },
   "file_extension": ".py",
   "mimetype": "text/x-python",
   "name": "python",
   "nbconvert_exporter": "python",
   "pygments_lexer": "ipython3",
   "version": "3.10.4"
  }
 },
 "nbformat": 4,
 "nbformat_minor": 2
}
