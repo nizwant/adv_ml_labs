{
 "cells": [
  {
   "cell_type": "code",
   "execution_count": 6,
   "metadata": {},
   "outputs": [],
   "source": [
    "import pandas as pd\n",
    "import numpy as np\n",
    "import matplotlib.pyplot as plt"
   ]
  },
  {
   "cell_type": "code",
   "execution_count": 43,
   "metadata": {},
   "outputs": [],
   "source": [
    "def stochastic_gradient_descent(\n",
    "    X,\n",
    "    y,\n",
    "    initial_solution,\n",
    "    calculate_gradient,\n",
    "    learning_rate=0.01,\n",
    "    max_num_epoch=1000,\n",
    "    verbose=False,\n",
    "):\n",
    "    # initialization\n",
    "    if isinstance(X, pd.DataFrame):\n",
    "        X = X.to_numpy()\n",
    "    if isinstance(y, pd.DataFrame):\n",
    "        y = y.to_numpy().T\n",
    "        if y.shape[0] == 1:\n",
    "            y = y[0]\n",
    "    current_solution = initial_solution\n",
    "\n",
    "    for _ in range(max_num_epoch):\n",
    "        N, _ = X.shape\n",
    "        shuffled_idx = np.random.permutation(N)\n",
    "        X, y = X[shuffled_idx], y[shuffled_idx]\n",
    "        for X_selected, y_selected in zip(X, y):\n",
    "            gradient = calculate_gradient(X_selected, y_selected, current_solution)\n",
    "            current_solution = current_solution - learning_rate * gradient\n",
    "        if verbose:\n",
    "            print(\"Epoch:\", current_solution)\n",
    "    return current_solution"
   ]
  },
  {
   "cell_type": "code",
   "execution_count": 44,
   "metadata": {},
   "outputs": [],
   "source": [
    "def calculate_gradient(X, y, w):\n",
    "    # calculate the gradient\n",
    "    gradient = -2 * X * (y - np.dot(X, w))\n",
    "\n",
    "    return gradient"
   ]
  },
  {
   "cell_type": "code",
   "execution_count": 45,
   "metadata": {},
   "outputs": [
    {
     "name": "stdout",
     "output_type": "stream",
     "text": [
      "Solution: [0.99912141 1.00066452]\n"
     ]
    }
   ],
   "source": [
    "X = pd.DataFrame(np.array([[1, 2], [2, 3], [3, 4], [4, 5]]))\n",
    "y = pd.DataFrame(np.array([3, 5, 7, 9]))\n",
    "initial_solution = np.array([0, 0])\n",
    "learning_rate = 0.01\n",
    "max_num_epoch = 1000\n",
    "\n",
    "solution = stochastic_gradient_descent(\n",
    "    X, y, initial_solution, calculate_gradient, learning_rate, max_num_epoch\n",
    ")\n",
    "print(\"Solution:\", solution)"
   ]
  },
  {
   "cell_type": "code",
   "execution_count": null,
   "metadata": {},
   "outputs": [],
   "source": []
  }
 ],
 "metadata": {
  "kernelspec": {
   "display_name": "asseco",
   "language": "python",
   "name": "python3"
  },
  "language_info": {
   "codemirror_mode": {
    "name": "ipython",
    "version": 3
   },
   "file_extension": ".py",
   "mimetype": "text/x-python",
   "name": "python",
   "nbconvert_exporter": "python",
   "pygments_lexer": "ipython3",
   "version": "3.10.4"
  }
 },
 "nbformat": 4,
 "nbformat_minor": 2
}
